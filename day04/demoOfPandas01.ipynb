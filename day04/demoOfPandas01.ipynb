{
 "cells": [
  {
   "cell_type": "code",
   "execution_count": 1,
   "metadata": {},
   "outputs": [],
   "source": [
    "import numpy as np \n",
    "import pandas as pd\n"
   ]
  },
  {
   "cell_type": "code",
   "execution_count": 3,
   "metadata": {},
   "outputs": [
    {
     "output_type": "execute_result",
     "data": {
      "text/plain": "a    3\nb   -5\nc    7\nd    4\ndtype: int64"
     },
     "metadata": {},
     "execution_count": 3
    }
   ],
   "source": [
    "s = pd.Series([3, -5, 7, 4], index=['a', 'b', 'c', 'd'])\n",
    "s"
   ]
  },
  {
   "cell_type": "code",
   "execution_count": 4,
   "metadata": {},
   "outputs": [
    {
     "output_type": "execute_result",
     "data": {
      "text/plain": "{'Country': ['Belgium', 'India', 'Brazil'],\n 'Capital': ['Brussels', 'New Delhi', 'Brasília'],\n 'Population': [11190846, 1303171035, 207847528]}"
     },
     "metadata": {},
     "execution_count": 4
    }
   ],
   "source": [
    "data = {'Country': ['Belgium', 'India', 'Brazil'], 'Capital': ['Brussels', 'New Delhi', 'Brasília'],\n",
    "'Population': [11190846, 1303171035, 207847528]}\n",
    "data"
   ]
  },
  {
   "cell_type": "code",
   "execution_count": 6,
   "metadata": {},
   "outputs": [
    {
     "output_type": "execute_result",
     "data": {
      "text/plain": "   Country    Capital  Population\n0  Belgium   Brussels    11190846\n1    India  New Delhi  1303171035\n2   Brazil   Brasília   207847528",
      "text/html": "<div>\n<style scoped>\n    .dataframe tbody tr th:only-of-type {\n        vertical-align: middle;\n    }\n\n    .dataframe tbody tr th {\n        vertical-align: top;\n    }\n\n    .dataframe thead th {\n        text-align: right;\n    }\n</style>\n<table border=\"1\" class=\"dataframe\">\n  <thead>\n    <tr style=\"text-align: right;\">\n      <th></th>\n      <th>Country</th>\n      <th>Capital</th>\n      <th>Population</th>\n    </tr>\n  </thead>\n  <tbody>\n    <tr>\n      <th>0</th>\n      <td>Belgium</td>\n      <td>Brussels</td>\n      <td>11190846</td>\n    </tr>\n    <tr>\n      <th>1</th>\n      <td>India</td>\n      <td>New Delhi</td>\n      <td>1303171035</td>\n    </tr>\n    <tr>\n      <th>2</th>\n      <td>Brazil</td>\n      <td>Brasília</td>\n      <td>207847528</td>\n    </tr>\n  </tbody>\n</table>\n</div>"
     },
     "metadata": {},
     "execution_count": 6
    }
   ],
   "source": [
    "df = pd.DataFrame(data, columns=['Country', 'Capital', 'Population'])\n",
    "df"
   ]
  },
  {
   "cell_type": "code",
   "execution_count": 12,
   "metadata": {
    "tags": []
   },
   "outputs": [
    {
     "output_type": "stream",
     "name": "stdout",
     "text": "-5\n  Country    Capital  Population\n1   India  New Delhi  1303171035\n2  Brazil   Brasília   207847528\n"
    }
   ],
   "source": [
    "# 取值\n",
    "print(s['b'])\n",
    "print(df[1:])"
   ]
  },
  {
   "cell_type": "code",
   "execution_count": 28,
   "metadata": {
    "tags": []
   },
   "outputs": [
    {
     "output_type": "stream",
     "name": "stdout",
     "text": "Country\n0  Belgium\n   Country\n0  Belgium\n"
    },
    {
     "output_type": "execute_result",
     "data": {
      "text/plain": "   Country  Capital  Population\n0      1.0      2.0         1.0\n1      3.0      3.0         3.0\n2      2.0      1.0         2.0",
      "text/html": "<div>\n<style scoped>\n    .dataframe tbody tr th:only-of-type {\n        vertical-align: middle;\n    }\n\n    .dataframe tbody tr th {\n        vertical-align: top;\n    }\n\n    .dataframe thead th {\n        text-align: right;\n    }\n</style>\n<table border=\"1\" class=\"dataframe\">\n  <thead>\n    <tr style=\"text-align: right;\">\n      <th></th>\n      <th>Country</th>\n      <th>Capital</th>\n      <th>Population</th>\n    </tr>\n  </thead>\n  <tbody>\n    <tr>\n      <th>0</th>\n      <td>1.0</td>\n      <td>2.0</td>\n      <td>1.0</td>\n    </tr>\n    <tr>\n      <th>1</th>\n      <td>3.0</td>\n      <td>3.0</td>\n      <td>3.0</td>\n    </tr>\n    <tr>\n      <th>2</th>\n      <td>2.0</td>\n      <td>1.0</td>\n      <td>2.0</td>\n    </tr>\n  </tbody>\n</table>\n</div>"
     },
     "metadata": {},
     "execution_count": 28
    }
   ],
   "source": [
    "\"\"\"\n",
    "选取、布尔索引及设置值\n",
    "\"\"\"\n",
    "print(df.iloc[[0], [0]])\n",
    "print(df.loc[[0], ['Country']])\n",
    "df.sort_values(by='Country')\n",
    "df.rank()\n"
   ]
  },
  {
   "cell_type": "code",
   "execution_count": 32,
   "metadata": {
    "tags": []
   },
   "outputs": [
    {
     "output_type": "stream",
     "name": "stdout",
     "text": "(3, 3)\nRangeIndex(start=0, stop=3, step=1)\nIndex(['Country', 'Capital', 'Population'], dtype='object')\n<class 'pandas.core.frame.DataFrame'>\nRangeIndex: 3 entries, 0 to 2\nData columns (total 3 columns):\n #   Column      Non-Null Count  Dtype \n---  ------      --------------  ----- \n 0   Country     3 non-null      object\n 1   Capital     3 non-null      object\n 2   Population  3 non-null      int64 \ndtypes: int64(1), object(2)\nmemory usage: 200.0+ bytes\n"
    },
    {
     "output_type": "execute_result",
     "data": {
      "text/plain": "Country       3\nCapital       3\nPopulation    3\ndtype: int64"
     },
     "metadata": {},
     "execution_count": 32
    }
   ],
   "source": [
    "# dataframe的基本信息\n",
    "print(df.shape)\n",
    "print(df.index)\n",
    "print(df.columns) \n",
    "df.info()\n",
    "df.count()"
   ]
  },
  {
   "cell_type": "code",
   "execution_count": 36,
   "metadata": {
    "tags": []
   },
   "outputs": [
    {
     "output_type": "stream",
     "name": "stdout",
     "text": "Country              BelgiumIndiaBrazil\nCapital       BrusselsNew DelhiBrasília\nPopulation                   1522209409\ndtype: object\n              Country                    Capital  Population\n0             Belgium                   Brussels    11190846\n1        BelgiumIndia          BrusselsNew Delhi  1314361881\n2  BelgiumIndiaBrazil  BrusselsNew DelhiBrasília  1522209409\nCountry        Belgium\nCapital       Brasília\nPopulation    11190846\ndtype: object Country            India\nCapital        New Delhi\nPopulation    1303171035\ndtype: object\n         Population\ncount  3.000000e+00\nmean   5.074031e+08\nstd    6.961346e+08\nmin    1.119085e+07\n25%    1.095192e+08\n50%    2.078475e+08\n75%    7.555093e+08\nmax    1.303171e+09\nPopulation    5.074031e+08\ndtype: float64\nPopulation    207847528.0\ndtype: float64\n"
    }
   ],
   "source": [
    "print(df.sum())\n",
    "print(df.cumsum())\n",
    "print(df.min(),df.max()) \n",
    "# print(df.idxmin()/df.idxmax())\n",
    "print(df.describe())\n",
    "print(df.mean()) \n",
    "print(df.median())\n",
    "# 合计 累计\n",
    "# 最小值除以最大值\n",
    "# 索引最小值除以索引最大值 基础统计数据 平均值\n",
    "# 中位数"
   ]
  },
  {
   "cell_type": "code",
   "execution_count": 40,
   "metadata": {
    "tags": []
   },
   "outputs": [
    {
     "output_type": "stream",
     "name": "stdout",
     "text": "Country    Capital  Population\n0  Belgium   Brussels    11190846\n1    India  New Delhi  1303171035\n2   Brazil   Brasília   207847528 \n           Country             Capital  Population\n0  BelgiumBelgium    BrusselsBrussels    22381692\n1      IndiaIndia  New DelhiNew Delhi  2606342070\n2    BrazilBrazil    BrasíliaBrasília   415695056 \n           Country             Capital  Population\n0  BelgiumBelgium    BrusselsBrussels    22381692\n1      IndiaIndia  New DelhiNew Delhi  2606342070\n2    BrazilBrazil    BrasíliaBrasília   415695056\n"
    }
   ],
   "source": [
    "f = lambda x: x*2  \n",
    "df1 = df.apply(f)\n",
    "df2 = df.applymap(f)\n",
    "print(df,'\\n', df1,'\\n', df2)"
   ]
  },
  {
   "cell_type": "code",
   "execution_count": null,
   "metadata": {},
   "outputs": [],
   "source": [
    "\"\"\"\n",
    "读写操作\n",
    "\"\"\"\n",
    "\n",
    "# csv文件的读写\n",
    "# pd.read_csv('file.csv', header=None, nrows=5)\n",
    "df.to_csv('myDataFrame.csv')\n",
    "\n",
    "# excel的读写\n",
    "pd.read_excel('file.xlsx')\n",
    "pd.to_excel('dir/myDataFrame.xlsx'sheet_name='Sheet1')\n"
   ]
  },
  {
   "cell_type": "code",
   "execution_count": 9,
   "metadata": {},
   "outputs": [],
   "source": [
    "\"\"\"\n",
    "读取和写入SQL查询及数据库表\n",
    "\"\"\"\n",
    "from sqlalchemy import  create_engine\n",
    "# engine = create_engine('sqlite://:memory:')\n",
    "# pd.read_sql(\"select * from my_table;\", engine)\n",
    "\n",
    "\n"
   ]
  },
  {
   "cell_type": "code",
   "execution_count": null,
   "metadata": {},
   "outputs": [],
   "source": []
  }
 ],
 "metadata": {
  "language_info": {
   "codemirror_mode": {
    "name": "ipython",
    "version": 3
   },
   "file_extension": ".py",
   "mimetype": "text/x-python",
   "name": "python",
   "nbconvert_exporter": "python",
   "pygments_lexer": "ipython3",
   "version": "3.7.4-final"
  },
  "orig_nbformat": 2,
  "kernelspec": {
   "name": "python3",
   "display_name": "Python 3"
  }
 },
 "nbformat": 4,
 "nbformat_minor": 2
}