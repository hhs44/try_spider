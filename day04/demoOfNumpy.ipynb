{
 "cells": [
  {
   "cell_type": "code",
   "execution_count": 1,
   "metadata": {},
   "outputs": [],
   "source": [
    "import numpy as np\n"
   ]
  },
  {
   "cell_type": "code",
   "execution_count": 36,
   "metadata": {
    "tags": []
   },
   "outputs": [
    {
     "output_type": "stream",
     "name": "stdout",
     "text": "[1 2 3] \n\n [[1.5 2.  3. ]\n [4.  5.  6. ]] \n\n [[[1.5 2.  3. ]\n  [4.  5.  6. ]]\n\n [[3.  2.  1. ]\n  [4.  5.  6. ]]]\n"
    }
   ],
   "source": [
    "a = np.array([1, 2, 3])\n",
    "b = np.array([(1.5, 2, 3), (4, 5, 6)], dtype = float)\n",
    "c = np.array([[(1.5, 2, 3), (4, 5, 6)], [(3, 2, 1), (4, 5, 6)]], dtype = float)\n",
    "print(a, \"\\n\\n\", b, \"\\n\\n\", c)"
   ]
  },
  {
   "cell_type": "code",
   "execution_count": 7,
   "metadata": {},
   "outputs": [
    {
     "output_type": "execute_result",
     "data": {
      "text/plain": "array([[0., 0., 0., 0.],\n       [0., 0., 0., 0.],\n       [0., 0., 0., 0.]])"
     },
     "metadata": {},
     "execution_count": 7
    }
   ],
   "source": [
    "np.zeros((3, 4))"
   ]
  },
  {
   "cell_type": "code",
   "execution_count": 9,
   "metadata": {},
   "outputs": [
    {
     "output_type": "execute_result",
     "data": {
      "text/plain": "array([[[1, 1, 1, 1],\n        [1, 1, 1, 1],\n        [1, 1, 1, 1]],\n\n       [[1, 1, 1, 1],\n        [1, 1, 1, 1],\n        [1, 1, 1, 1]]], dtype=int16)"
     },
     "metadata": {},
     "execution_count": 9
    }
   ],
   "source": [
    "np.ones((2,3,4),dtype=np.int16)"
   ]
  },
  {
   "cell_type": "code",
   "execution_count": 33,
   "metadata": {},
   "outputs": [
    {
     "output_type": "execute_result",
     "data": {
      "text/plain": "array([0.  , 0.25, 0.5 , 0.75, 1.  , 1.25, 1.5 , 1.75, 2.  ])"
     },
     "metadata": {},
     "execution_count": 33
    }
   ],
   "source": [
    "np.arange(10,25,5)\n",
    "np.linspace(0, 2, 9)\n"
   ]
  },
  {
   "cell_type": "code",
   "execution_count": 14,
   "metadata": {},
   "outputs": [
    {
     "output_type": "execute_result",
     "data": {
      "text/plain": "array([[7, 7],\n       [7, 7]])"
     },
     "metadata": {},
     "execution_count": 14
    }
   ],
   "source": [
    "np.full((2,2),7)"
   ]
  },
  {
   "cell_type": "code",
   "execution_count": 41,
   "metadata": {},
   "outputs": [
    {
     "output_type": "execute_result",
     "data": {
      "text/plain": "array([[1., 0., 0., 0.],\n       [0., 1., 0., 0.],\n       [0., 0., 1., 0.],\n       [0., 0., 0., 1.]])"
     },
     "metadata": {},
     "execution_count": 41
    }
   ],
   "source": [
    "q = np.eye(4)\n",
    "q"
   ]
  },
  {
   "cell_type": "code",
   "execution_count": 28,
   "metadata": {},
   "outputs": [
    {
     "output_type": "execute_result",
     "data": {
      "text/plain": "array([[0., 0., 0., 0., 0.],\n       [0., 0., 0., 0., 0.],\n       [0., 0., 0., 0., 0.]])"
     },
     "metadata": {},
     "execution_count": 28
    }
   ],
   "source": [
    "np.empty((3,5))"
   ]
  },
  {
   "cell_type": "code",
   "execution_count": 29,
   "metadata": {},
   "outputs": [
    {
     "output_type": "execute_result",
     "data": {
      "text/plain": "array([[0.19585873, 0.27599765],\n       [0.82005943, 0.93301734]])"
     },
     "metadata": {},
     "execution_count": 29
    }
   ],
   "source": [
    "np.random.random((2,2))"
   ]
  },
  {
   "cell_type": "markdown",
   "metadata": {},
   "source": [
    "### 数据类型\n",
    ">>> np.int64 \n",
    "\n",
    ">>> np.float32 \n",
    "\n",
    ">>> np.complex \n",
    "\n",
    ">>> np.bool \n",
    "\n",
    ">>> np.object \n",
    "\n",
    ">>> np.string_\n",
    "\n",
    ">>> np.unicode_"
   ]
  },
  {
   "cell_type": "code",
   "execution_count": 43,
   "metadata": {},
   "outputs": [
    {
     "output_type": "execute_result",
     "data": {
      "text/plain": "array([[2.71828183, 1.        , 1.        , 1.        ],\n       [1.        , 2.71828183, 1.        , 1.        ],\n       [1.        , 1.        , 2.71828183, 1.        ],\n       [1.        , 1.        , 1.        , 2.71828183]])"
     },
     "metadata": {},
     "execution_count": 43
    }
   ],
   "source": [
    "\"\"\"\n",
    "支持的基本运算\n",
    "—  四则运算\n",
    "- e的幂，平方根，\n",
    "- 正弦，余弦\n",
    "- 自然对数d\n",
    "- 点积\n",
    "\"\"\"\n",
    "np.exp(q)"
   ]
  },
  {
   "cell_type": "code",
   "execution_count": 45,
   "metadata": {},
   "outputs": [
    {
     "output_type": "execute_result",
     "data": {
      "text/plain": "array([1, 2, 3])"
     },
     "metadata": {},
     "execution_count": 45
    }
   ],
   "source": [
    "a"
   ]
  },
  {
   "cell_type": "code",
   "execution_count": 58,
   "metadata": {
    "tags": []
   },
   "outputs": [
    {
     "output_type": "stream",
     "name": "stdout",
     "text": "[[1.5 4. ]\n [2.  5. ]\n [3.  6. ]] \n\n [[1.5 2.  3. ]\n [4.  5.  6. ]] \n\n\n[1.5 2.  3.  4.  5.  6. ] \n [[1.5]\n [2. ]\n [3. ]\n [4. ]\n [5. ]\n [6. ]]\n-----\n[1 5 2 3]\n[1 3]\n----\n[ 1  2  3 10 15 20]\n[[1.  2.  3. ]\n [1.5 2.  3. ]\n [4.  5.  6. ]]\n"
    }
   ],
   "source": [
    "\"\"\"\n",
    "矩阵操作\n",
    "- 转置\n",
    "- 改变形状\n",
    "- 合并数组\n",
    "- 分割数组\n",
    "\"\"\"\n",
    "# 转置\n",
    "i = np.transpose(b)\n",
    "print(i, \"\\n\\n\", i.T,\"\\n\\n\")\n",
    "\n",
    "# 改变形状\n",
    "x = b.ravel()  # 拉平数组\n",
    "y = b.reshape(6,1)\n",
    "print(x, \"\\n\", y)\n",
    "\n",
    "print(\"-----\")\n",
    "# 添加或删除值\n",
    "# h.resize((2,6)) \n",
    "# np.append(h,g) \n",
    "print(np.insert(a, 1, 5))\n",
    "print(np.delete(a,[1]))\n",
    "\n",
    "print(\"----\")\n",
    "print(np.concatenate((a,d),axis=0))  #  拼接\n",
    "print(np.vstack((a,b)))\n",
    "\n",
    "\n",
    "# 分割数组\n"
   ]
  },
  {
   "cell_type": "code",
   "execution_count": null,
   "metadata": {},
   "outputs": [],
   "source": [
    "\"\"\"\n",
    "对比\n",
    "\"\"\""
   ]
  }
 ],
 "metadata": {
  "language_info": {
   "codemirror_mode": {
    "name": "ipython",
    "version": 3
   },
   "file_extension": ".py",
   "mimetype": "text/x-python",
   "name": "python",
   "nbconvert_exporter": "python",
   "pygments_lexer": "ipython3",
   "version": "3.7.4-final"
  },
  "orig_nbformat": 2,
  "kernelspec": {
   "name": "python3",
   "display_name": "Python 3"
  }
 },
 "nbformat": 4,
 "nbformat_minor": 2
}