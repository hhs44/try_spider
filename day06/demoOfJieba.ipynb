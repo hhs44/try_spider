{
 "cells": [
  {
   "cell_type": "code",
   "execution_count": 21,
   "metadata": {},
   "outputs": [],
   "source": [
    "import jieba\n",
    "import wordcloud\n",
    "from collections import Counter\n"
   ]
  },
  {
   "cell_type": "code",
   "execution_count": 10,
   "metadata": {
    "tags": []
   },
   "outputs": [
    {
     "output_type": "execute_result",
     "data": {
      "text/plain": "'《 百年孤独 》 ， 是 哥伦比亚 作家 加西亚 · 马尔克斯 创作 的 长篇小说 ， 是 其 代表作 ， 也 是 拉丁美洲 魔幻现实主义 文学 的 代表作 ， 被誉为 “ 再现 拉丁美洲 历史 社会 图景 的 鸿篇巨著 ” 。 作品 描写 了 布恩迪亚 家族 七代 人 的 传奇 故事 ， 以及 加勒比海 沿岸 小镇 马孔多 的 百年 兴衰 ， 反映 了 拉丁美洲 一个 世纪 以来 风云变幻 的 历史 。 作品 融入 神话传说 、 民间故事 、 宗教 典故 等 神秘 因素 ， 巧妙 地 糅合 了 现实 与 虚幻 ， 展现出 一个 瑰丽 的 想象 世界 ， 成为 20 世纪 重要 的 经典 文学 巨著 之一 。'"
     },
     "metadata": {},
     "execution_count": 10
    }
   ],
   "source": [
    "test_text = \"《百年孤独》，是哥伦比亚作家加西亚·马尔克斯创作的长篇小说，\" \\\n",
    "            \"是其代表作，也是拉丁美洲魔幻现实主义文学的代表作，\" \\\n",
    "            \"被誉为“再现拉丁美洲历史社会图景的鸿篇巨著”。\" \\\n",
    "            \"作品描写了布恩迪亚家族七代人的传奇故事，以及加勒比海\" \\\n",
    "            \"沿岸小镇马孔多的百年兴衰，反映了拉丁美洲一个世纪以来风云变幻的历史\" \\\n",
    "            \"。作品融入神话传说、民间故事、宗教典故等神秘因素，巧妙地糅合了现实与虚幻，\" \\\n",
    "            \"展现出一个瑰丽的想象世界，成为20世纪重要的经典文学巨著之一。\"\n",
    "seg_list = \" \".join(jieba.cut(test_text))\n",
    "seg_list"
   ]
  },
  {
   "cell_type": "code",
   "execution_count": 7,
   "metadata": {},
   "outputs": [
    {
     "output_type": "execute_result",
     "data": {
      "text/plain": "<wordcloud.wordcloud.WordCloud at 0x201f391cb88>"
     },
     "metadata": {},
     "execution_count": 7
    }
   ],
   "source": [
    "w = wordcloud.WordCloud(width=1000,height=700,background_color='white',font_path='msyh.ttc')\n",
    "w.generate(test_text)\n",
    "w.to_file('output02.png')"
   ]
  },
  {
   "cell_type": "code",
   "execution_count": 14,
   "metadata": {},
   "outputs": [
    {
     "output_type": "execute_result",
     "data": {
      "text/plain": "<wordcloud.wordcloud.WordCloud at 0x201f807a088>"
     },
     "metadata": {},
     "execution_count": 14
    }
   ],
   "source": [
    "w = wordcloud.WordCloud(width=1000,height=700,background_color='white',font_path='msyh.ttc')\n",
    "w.generate(seg_list)\n",
    "w.to_file('output03.png')"
   ]
  },
  {
   "cell_type": "code",
   "execution_count": 12,
   "metadata": {},
   "outputs": [
    {
     "output_type": "execute_result",
     "data": {
      "text/plain": "'多年 以后 ， 奥雷连诺 上校 站 在 行刑队 面前 ， 准 会 想起 父亲 带 他 去 参观 冰块 的 那个 遥远 的 下午 。 当时 ， 马孔多 是 个 二十 户 人家 的 村庄 ， 一座座 土房 都 盖 在 河岸 上 ， 河水 清澈 ， 沿着 遍布 石头 的 河床 流 去 ， 河里 的 石头 光滑 、 洁白 ， 活象 史前 的 巨蛋 。 这块 天地 还是 新 开辟 的 ， 许多 东西 都 叫 不出 名字 ， 不得不 用手 指指点点 。 每年 三月 ， 衣衫 褴楼 的 吉卜赛人 都 要 在 村边 搭 起 帐篷 ， 在 笛 鼓 的 喧嚣声 中 ， 向 马孔多 的 居民 介绍 科学家 的 最新 发明 。 他们 首先 带来 的 是 磁铁 。 一个 身躯 高大 的 吉卜赛人 ， 自称 梅尔加 德斯 ， 满脸 络腮胡子 ， 手指 瘦得象 鸟 的 爪子 ， 向 观众 出色 地 表演 了 他 所谓 的 马其顿 炼金术士 创造 的 世界 第八 奇迹 。 他 手里 拿 着 两大铁 ， 从 一座 农舍 走到 另 一座 农舍 ， 大家 都 惊异 地 看见 ， 铁锅 、 铁盆 、 铁钳 、 铁炉 都 从 原地 倒下 ， 木板 上 的 钉子 和 螺丝 嘎吱 嘎吱 地 拼命 想 挣脱 出来 ， 甚至 那些 早就 丢失 的 东西 也 从 找 过 多次 的 地方 兀然 出现 ， 乱七八糟 地 跟 在 梅尔加 德斯 的 魔 铁 后面 。 “ 东西 也 是 有 生命 的 ， ” 吉卜赛人 用 刺耳 的 声调 说 ， “ 只消 唤起 它们 的 灵性 。 ” 霍 · 阿 · 布恩蒂亚 狂热 的 想象力 经常 超过 大自然 的 创造力 ， 甚至 越过 奇迹 和 魔力 的 限度 ， 他 认为 这种 暂时 无用 的 科学发明 可以 用来 开采 地下 的 金子 。'"
     },
     "metadata": {},
     "execution_count": 12
    }
   ],
   "source": [
    "test_text1 = \"多年以后，奥雷连诺上校站在行刑队面前，准会想起父亲带他去参观冰块的那个遥远的下午。当时，马孔多是个二十户人家的村庄，一座座土房都盖在河岸上，河水清澈，沿着遍布石头的河床流去，河里的石头光滑、洁白，活象史前的巨蛋。这块天地还是新开辟的，许多东西都叫不出名字，不得不用手指指点点。每年三月，衣衫褴楼的吉卜赛人都要在村边搭起帐篷，在笛鼓的喧嚣声中，向马孔多的居民介绍科学家的最新发明。他们首先带来的是磁铁。一个身躯高大的吉卜赛人，自称梅尔加德斯，满脸络腮胡子，手指瘦得象鸟的爪子，向观众出色地表演了他所谓的马其顿炼金术士创造的世界第八奇迹。他手里拿着两大铁，从一座农舍走到另一座农舍，大家都惊异地看见，铁锅、铁盆、铁钳、铁炉都从原地倒下，木板上的钉子和螺丝嘎吱嘎吱地拼命想挣脱出来，甚至那些早就丢失的东西也从找过多次的地方兀然出现，乱七八糟地跟在梅尔加德斯的魔铁后面。“东西也是有生命的，”吉卜赛人用刺耳的声调说，“只消唤起它们的灵性。”霍·阿·布恩蒂亚狂热的想象力经常超过大自然的创造力，甚至越过奇迹和魔力的限度，他认为这种暂时无用的科学发明可以用来开采地下的金子。\"\n",
    "seg_list1 = \" \".join(jieba.cut(test_text1))\n",
    "seg_list1"
   ]
  },
  {
   "cell_type": "code",
   "execution_count": 19,
   "metadata": {},
   "outputs": [
    {
     "output_type": "execute_result",
     "data": {
      "text/plain": "[('，', 9), ('的', 8), ('是', 3), ('拉丁美洲', 3), ('。', 3)]"
     },
     "metadata": {},
     "execution_count": 19
    }
   ],
   "source": [
    "count = Counter(jieba.cut(test_text))\n",
    "count.most_common(5)"
   ]
  },
  {
   "cell_type": "code",
   "execution_count": 56,
   "metadata": {},
   "outputs": [],
   "source": [
    "import imageio\n",
    "mk = imageio.imread(\"brid.png\")"
   ]
  },
  {
   "cell_type": "code",
   "execution_count": 57,
   "metadata": {},
   "outputs": [
    {
     "output_type": "execute_result",
     "data": {
      "text/plain": "<wordcloud.wordcloud.WordCloud at 0x201800f3108>"
     },
     "metadata": {},
     "execution_count": 57
    }
   ],
   "source": [
    "\n",
    "w = wordcloud.WordCloud(\n",
    "                        background_color='white',\n",
    "                        font_path='msyh.ttc',\n",
    "                        mask=mk,\n",
    "                        scale=15)\n",
    "w.generate(seg_list1)\n",
    "w.to_file('output07.png')\n"
   ]
  },
  {
   "cell_type": "code",
   "execution_count": null,
   "metadata": {},
   "outputs": [],
   "source": []
  }
 ],
 "metadata": {
  "language_info": {
   "codemirror_mode": {
    "name": "ipython",
    "version": 3
   },
   "file_extension": ".py",
   "mimetype": "text/x-python",
   "name": "python",
   "nbconvert_exporter": "python",
   "pygments_lexer": "ipython3",
   "version": "3.7.4-final"
  },
  "orig_nbformat": 2,
  "kernelspec": {
   "name": "python3",
   "display_name": "Python 3"
  }
 },
 "nbformat": 4,
 "nbformat_minor": 2
}