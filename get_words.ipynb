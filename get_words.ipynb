{
 "cells": [
  {
   "cell_type": "code",
   "execution_count": 2,
   "metadata": {},
   "outputs": [],
   "source": [
    "job_info_list = []"
   ]
  },
  {
   "cell_type": "code",
   "execution_count": 3,
   "metadata": {},
   "outputs": [],
   "source": [
    "driver = webdriver.Chrome('chromedriver.exe')\n",
    "driver.get(\"https://www.jobui.com/jobs/l-%E6%88%90%E9%83%BD-q-python/\")"
   ]
  },
  {
   "cell_type": "code",
   "execution_count": 8,
   "metadata": {
    "tags": []
   },
   "outputs": [],
   "source": [
    "# 获取所有的工作类型\n",
    "def generate_url(city:str, job:str):\n",
    "    url = f\"https://www.jobui.com/jobs/l-{city}-q-{job}/\""
   ]
  },
  {
   "cell_type": "code",
   "execution_count": 8,
   "metadata": {},
   "outputs": [],
   "source": [
    "def go_next():\n",
    "    try:\n",
    "        a = driver.find_element_by_link_text('下一页')\n",
    "        a.click()\n",
    "        return True\n",
    "    except:\n",
    "        return False"
   ]
  },
  {
   "cell_type": "code",
   "execution_count": 15,
   "metadata": {
    "tags": []
   },
   "outputs": [],
   "source": [
    "def get_info():\n",
    "    job_list = driver.find_elements_by_class_name('c-job-list')\n",
    "    for job_info in job_list:\n",
    "        job_name = job_info.find_element_by_tag_name('h3').text\n",
    "        job_dest = job_info.find_elements_by_class_name('job-desc')\n",
    "        job_exp,job_stu,job_sal = job_dest[0].find_elements_by_tag_name('span')\n",
    "        job_kind = job_dest[1]\n",
    "        job_com = job_info.find_element_by_class_name('job-company-name').text\n",
    "        try:\n",
    "            visits, kind, models = re.split(r'[，|]', job_kind.text)\n",
    "        except:\n",
    "            visits, kind, models = [0,0,0]\n",
    "        job_info_list.append({\n",
    "            'job_name':job_name,\n",
    "            'job_com':job_com,\n",
    "            'job_sal':job_sal.text,\n",
    "            'job_exp':job_exp.text,\n",
    "            'job_stu':job_stu.text,\n",
    "            'visits': visits,\n",
    "            'kind':kind,\n",
    "            'models':models\n",
    "        })\n",
    "    return job_info_list"
   ]
  },
  {
   "cell_type": "code",
   "execution_count": 16,
   "metadata": {},
   "outputs": [],
   "source": [
    "get_info()\n",
    "while go_next():\n",
    "    get_info()\n"
   ]
  },
  {
   "cell_type": "code",
   "execution_count": 17,
   "metadata": {},
   "outputs": [
    {
     "output_type": "execute_result",
     "data": {
      "text/plain": "               job_name            job_com       job_sal job_exp job_stu  \\\n0           Python开发工程师     北京中软国际信息技术有限公司      1-1.5万/月  3-4年经验    本科以上   \n1      Python高级开发工程师-成都       杭州飞享数据技术有限公司    1.2-1.8万/月  3-4年经验    本科以上   \n2     C语言及python语言研发工程师       北京直真科技股份有限公司         6-10K    1-3年    不限学历   \n3             Python程序员       成都育碧电脑软件有限公司      1-1.5万/月  3-4年经验    本科以上   \n4           Python开发工程师       湖南金烽信息科技有限公司  15000-25000元   5-10年    本科以上   \n...                 ...                ...           ...     ...     ...   \n1014            高级测试工程师     上海天诚通信技术股份有限公司    1.2-1.7万/月  5-7年经验    本科以上   \n1015      Linux技术支持项目经理         统信软件技术有限公司      1.2-2万/月  3-4年经验    本科以上   \n1016            性能测试工程师   成都市海德计算机职业技能培训学校  15000-20000元   5-10年    本科以上   \n1017              测试工程师  北京陌陌信息技术有限公司成都分公司        5-7千/月    2年经验    本科以上   \n1018              测试实习生       亚信科技（中国）有限公司     2000-4000   应届毕业生    本科以上   \n\n        visits          kind       models  \n0     36.9万次浏览         外包服务      10000人以上  \n1      5076次浏览     互联网/电子商务         1-49人  \n2      1.6万次浏览          新能源    1000-4999人  \n3        3万次浏览        计算机软件      100-499人  \n4      1.7万次浏览        计算机软件      100-499人  \n...        ...           ...          ...  \n1014   2963次浏览   通信/电信/网络设备    1000-4999人  \n1015   8562次浏览        计算机软件      100-499人  \n1016    917次浏览     教育/培训/院校            未知  \n1017   1.5万次浏览        计算机软件      500-999人  \n1018  19.1万次浏览          新能源       1000人以上  \n\n[1019 rows x 8 columns]",
      "text/html": "<div>\n<style scoped>\n    .dataframe tbody tr th:only-of-type {\n        vertical-align: middle;\n    }\n\n    .dataframe tbody tr th {\n        vertical-align: top;\n    }\n\n    .dataframe thead th {\n        text-align: right;\n    }\n</style>\n<table border=\"1\" class=\"dataframe\">\n  <thead>\n    <tr style=\"text-align: right;\">\n      <th></th>\n      <th>job_name</th>\n      <th>job_com</th>\n      <th>job_sal</th>\n      <th>job_exp</th>\n      <th>job_stu</th>\n      <th>visits</th>\n      <th>kind</th>\n      <th>models</th>\n    </tr>\n  </thead>\n  <tbody>\n    <tr>\n      <th>0</th>\n      <td>Python开发工程师</td>\n      <td>北京中软国际信息技术有限公司</td>\n      <td>1-1.5万/月</td>\n      <td>3-4年经验</td>\n      <td>本科以上</td>\n      <td>36.9万次浏览</td>\n      <td>外包服务</td>\n      <td>10000人以上</td>\n    </tr>\n    <tr>\n      <th>1</th>\n      <td>Python高级开发工程师-成都</td>\n      <td>杭州飞享数据技术有限公司</td>\n      <td>1.2-1.8万/月</td>\n      <td>3-4年经验</td>\n      <td>本科以上</td>\n      <td>5076次浏览</td>\n      <td>互联网/电子商务</td>\n      <td>1-49人</td>\n    </tr>\n    <tr>\n      <th>2</th>\n      <td>C语言及python语言研发工程师</td>\n      <td>北京直真科技股份有限公司</td>\n      <td>6-10K</td>\n      <td>1-3年</td>\n      <td>不限学历</td>\n      <td>1.6万次浏览</td>\n      <td>新能源</td>\n      <td>1000-4999人</td>\n    </tr>\n    <tr>\n      <th>3</th>\n      <td>Python程序员</td>\n      <td>成都育碧电脑软件有限公司</td>\n      <td>1-1.5万/月</td>\n      <td>3-4年经验</td>\n      <td>本科以上</td>\n      <td>3万次浏览</td>\n      <td>计算机软件</td>\n      <td>100-499人</td>\n    </tr>\n    <tr>\n      <th>4</th>\n      <td>Python开发工程师</td>\n      <td>湖南金烽信息科技有限公司</td>\n      <td>15000-25000元</td>\n      <td>5-10年</td>\n      <td>本科以上</td>\n      <td>1.7万次浏览</td>\n      <td>计算机软件</td>\n      <td>100-499人</td>\n    </tr>\n    <tr>\n      <th>...</th>\n      <td>...</td>\n      <td>...</td>\n      <td>...</td>\n      <td>...</td>\n      <td>...</td>\n      <td>...</td>\n      <td>...</td>\n      <td>...</td>\n    </tr>\n    <tr>\n      <th>1014</th>\n      <td>高级测试工程师</td>\n      <td>上海天诚通信技术股份有限公司</td>\n      <td>1.2-1.7万/月</td>\n      <td>5-7年经验</td>\n      <td>本科以上</td>\n      <td>2963次浏览</td>\n      <td>通信/电信/网络设备</td>\n      <td>1000-4999人</td>\n    </tr>\n    <tr>\n      <th>1015</th>\n      <td>Linux技术支持项目经理</td>\n      <td>统信软件技术有限公司</td>\n      <td>1.2-2万/月</td>\n      <td>3-4年经验</td>\n      <td>本科以上</td>\n      <td>8562次浏览</td>\n      <td>计算机软件</td>\n      <td>100-499人</td>\n    </tr>\n    <tr>\n      <th>1016</th>\n      <td>性能测试工程师</td>\n      <td>成都市海德计算机职业技能培训学校</td>\n      <td>15000-20000元</td>\n      <td>5-10年</td>\n      <td>本科以上</td>\n      <td>917次浏览</td>\n      <td>教育/培训/院校</td>\n      <td>未知</td>\n    </tr>\n    <tr>\n      <th>1017</th>\n      <td>测试工程师</td>\n      <td>北京陌陌信息技术有限公司成都分公司</td>\n      <td>5-7千/月</td>\n      <td>2年经验</td>\n      <td>本科以上</td>\n      <td>1.5万次浏览</td>\n      <td>计算机软件</td>\n      <td>500-999人</td>\n    </tr>\n    <tr>\n      <th>1018</th>\n      <td>测试实习生</td>\n      <td>亚信科技（中国）有限公司</td>\n      <td>2000-4000</td>\n      <td>应届毕业生</td>\n      <td>本科以上</td>\n      <td>19.1万次浏览</td>\n      <td>新能源</td>\n      <td>1000人以上</td>\n    </tr>\n  </tbody>\n</table>\n<p>1019 rows × 8 columns</p>\n</div>"
     },
     "metadata": {},
     "execution_count": 17
    }
   ],
   "source": [
    "df = pandas.DataFrame(job_info_list)\n",
    "df"
   ]
  },
  {
   "cell_type": "code",
   "execution_count": 18,
   "metadata": {},
   "outputs": [],
   "source": [
    "df.to_excel('test01.xls')"
   ]
  },
  {
   "cell_type": "code",
   "execution_count": 14,
   "metadata": {},
   "outputs": [
    {
     "output_type": "execute_result",
     "data": {
      "text/plain": "'1.5万次浏览'"
     },
     "metadata": {},
     "execution_count": 14
    }
   ],
   "source": [
    "job_list = driver.find_elements_by_class_name('c-job-list')[13]\n",
    "job_dest = job_list.find_elements_by_class_name('job-desc')\n",
    "job_exp,job_stu,job_sal = job_dest[0].find_elements_by_tag_name('span')\n",
    "job_kind = job_dest[1]\n",
    "visits, kind, models = re.split(r'[，|]', job_kind.text)\n",
    "visits\n"
   ]
  },
  {
   "cell_type": "code",
   "execution_count": null,
   "metadata": {},
   "outputs": [],
   "source": [
    "def try_five(func):\n",
    "    count = 0\n",
    "    def wrapper(*args, **kwargs):\n",
    "        while count <= 5:\n",
    "            count+=1\n",
    "            res = func(*args, **kwargs)\n",
    "            return result\n",
    "    return wrapper\n"
   ]
  }
 ],
 "metadata": {
  "kernelspec": {
   "display_name": "Python 3",
   "language": "python",
   "name": "python3"
  },
  "language_info": {
   "codemirror_mode": {
    "name": "ipython",
    "version": 3
   },
   "file_extension": ".py",
   "mimetype": "text/x-python",
   "name": "python",
   "nbconvert_exporter": "python",
   "pygments_lexer": "ipython3",
   "version": "3.7.4-final"
  }
 },
 "nbformat": 4,
 "nbformat_minor": 4
}