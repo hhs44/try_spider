{
 "cells": [
  {
   "cell_type": "code",
   "execution_count": 4,
   "metadata": {},
   "outputs": [],
   "source": [
    "import re \n",
    "from selenium import webdriver\n"
   ]
  },
  {
   "cell_type": "code",
   "execution_count": 5,
   "metadata": {},
   "outputs": [],
   "source": [
    "\n",
    "job_info_list = []"
   ]
  },
  {
   "cell_type": "code",
   "execution_count": 6,
   "metadata": {},
   "outputs": [],
   "source": [
    "driver = webdriver.Chrome('chromedriver.exe')\n",
    "driver.get(\"https://www.jobui.com/jobs/l-%E6%88%90%E9%83%BD-q-python/\")"
   ]
  },
  {
   "cell_type": "code",
   "execution_count": null,
   "metadata": {
    "tags": []
   },
   "outputs": [],
   "source": [
    "# 获取所有的工作类型\n",
    "def generate_url(city:str, job:str):\n",
    "    url = f\"https://www.jobui.com/jobs/l-{city}-q-{job}/\""
   ]
  },
  {
   "cell_type": "code",
   "execution_count": 7,
   "metadata": {},
   "outputs": [],
   "source": [
    "def go_next():\n",
    "    try:\n",
    "        a = driver.find_element_by_link_text('下一页')\n",
    "        a.click()\n",
    "        return True\n",
    "    except:\n",
    "        return False"
   ]
  },
  {
   "cell_type": "code",
   "execution_count": 8,
   "metadata": {
    "tags": []
   },
   "outputs": [],
   "source": [
    "def get_info():\n",
    "    job_list = driver.find_elements_by_class_name('c-job-list')\n",
    "    for job_info in job_list:\n",
    "        job_name = job_info.find_element_by_tag_name('h3').text\n",
    "        job_dest = job_info.find_elements_by_class_name('job-desc')\n",
    "        job_exp,job_stu,job_sal = job_dest[0].find_elements_by_tag_name('span')\n",
    "        job_kind = job_dest[1]\n",
    "        job_com = job_info.find_element_by_class_name('job-company-name').text\n",
    "        try:\n",
    "            visits, kind, models = re.split(r'[，|]', job_kind.text)\n",
    "        except:\n",
    "            visits, kind, models = [0,0,0]\n",
    "        job_info_list.append({\n",
    "            'job_name':job_name,\n",
    "            'job_com':job_com,\n",
    "            'job_sal':job_sal.text,\n",
    "            'job_exp':job_exp.text,\n",
    "            'job_stu':job_stu.text,\n",
    "            'visits': visits,\n",
    "            'kind':kind,\n",
    "            'models':models\n",
    "        })\n",
    "    return job_info_list"
   ]
  },
  {
   "cell_type": "code",
   "execution_count": 9,
   "metadata": {},
   "outputs": [],
   "source": [
    "get_info()\n",
    "while go_next():\n",
    "    get_info()\n"
   ]
  },
  {
   "cell_type": "code",
   "execution_count": 11,
   "metadata": {},
   "outputs": [],
   "source": [
    "b = driver.find_element_by_id((\"ui-v2-pop-close\"))\n",
    "b.click()"
   ]
  },
  {
   "cell_type": "code",
   "execution_count": null,
   "metadata": {},
   "outputs": [],
   "source": [
    "df = pandas.DataFrame(job_info_list)\n",
    "df"
   ]
  },
  {
   "cell_type": "code",
   "execution_count": null,
   "metadata": {},
   "outputs": [],
   "source": [
    "df.to_excel('test01.xls')"
   ]
  },
  {
   "cell_type": "code",
   "execution_count": null,
   "metadata": {},
   "outputs": [],
   "source": [
    "job_list = driver.find_elements_by_class_name('c-job-list')[13]\n",
    "job_dest = job_list.find_elements_by_class_name('job-desc')\n",
    "job_exp,job_stu,job_sal = job_dest[0].find_elements_by_tag_name('span')\n",
    "job_kind = job_dest[1]\n",
    "visits, kind, models = re.split(r'[，|]', job_kind.text)\n",
    "visits\n"
   ]
  },
  {
   "cell_type": "code",
   "execution_count": null,
   "metadata": {},
   "outputs": [],
   "source": [
    "def try_five(func):\n",
    "    count = 0\n",
    "    def wrapper(*args, **kwargs):\n",
    "        while count <= 5:\n",
    "            count+=1\n",
    "            res = func(*args, **kwargs)\n",
    "            return result\n",
    "    return wrapper\n"
   ]
  }
 ],
 "metadata": {
  "kernelspec": {
   "display_name": "Python 3",
   "language": "python",
   "name": "python3"
  },
  "language_info": {
   "codemirror_mode": {
    "name": "ipython",
    "version": 3
   },
   "file_extension": ".py",
   "mimetype": "text/x-python",
   "name": "python",
   "nbconvert_exporter": "python",
   "pygments_lexer": "ipython3",
   "version": "3.7.4-final"
  }
 },
 "nbformat": 4,
 "nbformat_minor": 4
}