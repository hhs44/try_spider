{
 "cells": [
  {
   "cell_type": "code",
   "execution_count": 68,
   "metadata": {},
   "outputs": [],
   "source": [
    "import json\n",
    "import pandas as pd\n",
    "import re\n"
   ]
  },
  {
   "cell_type": "code",
   "execution_count": 44,
   "metadata": {},
   "outputs": [],
   "source": [
    "with open('job.json', 'r', encoding='utf-8') as f:\n",
    "    data = json.loads(f.read())"
   ]
  },
  {
   "cell_type": "code",
   "execution_count": 45,
   "metadata": {},
   "outputs": [
    {
     "output_type": "execute_result",
     "data": {
      "text/plain": "                          _id    companyFullName           createTime  \\\n0    5ef0627b8c719ec7f36a9fa9      微慕客（成都）科技有限公司  2020-06-22 15:19:43   \n1    5ef062808c719ec7f36a9faa        成都德凡克科技有限公司  2020-06-22 11:53:07   \n2    5ef062838c719ec7f36a9fab     易宝软件科技（南京）有限公司  2020-06-22 10:51:24   \n3    5ef062878c719ec7f36a9fac     成都南天佳信信息工程有限公司  2020-06-22 09:21:23   \n4    5ef0628b8c719ec7f36a9fad       成都智汇安新科技有限公司  2020-06-22 14:09:14   \n..                        ...                ...                  ...   \n445  5ef069cd8c719ec7f36aa166  北京蜂雀投资管理有限公司成都分公司  2020-05-11 15:24:46   \n446  5ef069d08c719ec7f36aa167     趋曼信息技术（上海）有限公司  2020-06-12 10:01:22   \n447  5ef069d38c719ec7f36aa168     成都中科云集信息技术有限公司  2020-05-28 09:40:32   \n448  5ef069d68c719ec7f36aa169        深圳市汇合发展有限公司  2020-05-28 15:51:09   \n449  5ef069da8c719ec7f36aa16a     成都斯达领科网络科技有限公司  2020-05-29 14:06:23   \n\n                                                detail district education  \\\n0    1.本科及以上学历，计算机相关专业，3年以上工作经验；\\n2.拥有良好的编码习惯，遵守编码规...      双流县        本科   \n1    岗位职责：1. 负责研发量化系统和回测系统，策略上线表现的可视化，能够出具策略表现简报。2、...      高新区        大专   \n2                                                Error       郫县        本科   \n3                                                Error      高新区        本科   \n4    岗位职责：\\n1、充分理解项目需求, 系统架构, 参与系统设计；\\n2、根据公司现有的分析设...      高新区        本科   \n..                                                 ...      ...       ...   \n445                                              Error      武侯区        本科   \n446                                              Error      双流县        本科   \n447                                              Error      成华区        本科   \n448                                              Error      武侯区        本科   \n449                                              Error      高新区        本科   \n\n    financeStage  firstType jobNature     positionAdvantage positionName  \\\n0          不需要融资  开发|测试|运维类        全职   五险一金 弹性工作 扁平管理 微软项目  python开发工程师   \n1          不需要融资  开发|测试|运维类        全职          办公环境舒适 下午茶福利  python开发工程师   \n2           上市公司  开发|测试|运维类        全职   氛围温馨,周末双休,节日福利，五险一金  python开发工程师   \n3           上市公司  开发|测试|运维类        全职   年终奖金、定期体检、节日福利、生日福利     python开发   \n4          不需要融资  开发|测试|运维类        全职        高校支付 六险一金 周末双休     python后端   \n..           ...        ...       ...                   ...          ...   \n445        不需要融资        金融类        全职  优质的平台，卓越的业绩，无限的发展空间。   股票量化交易基金经理   \n446        不需要融资  开发|测试|运维类        全职             工作环境好，技术新         测试开发   \n447        不需要融资  开发|测试|运维类        全职             五险一金，周末双休        研发工程师   \n448        不需要融资  开发|测试|运维类        全职                  薪资福利         软件测试   \n449          天使轮  开发|测试|运维类        全职     入职购买五险一金、下午茶、透明晋升         高级前端   \n\n      salary   secondType                               skillLables thirdType  \\\n0     8k-12k         后端开发                              [ \"Python\" ]    Python   \n1     8k-12k         后端开发              [ \"C++\", \"C\", \"Linux/Unix\" ]    Python   \n2    12k-20k         后端开发                     [ \"后端\", \"平台\", \"分布式\" ]      Java   \n3     9k-13k         后端开发               [ \"中间件\", \"Python\", \"Java\" ]    Python   \n4    10k-12k         后端开发                              [ \"Python\" ]    Python   \n..       ...          ...                                       ...       ...   \n445  20k-30k  证券|基金|信托|期货            [ \"股票\", \"基金\", \"基金管理\", \"基金分析\" ]      基金经理   \n446  11k-17k           测试            [ \"测试\", \"Android测试\", \"小程序测试\" ]      测试开发   \n447   6k-12k         前端开发  [ \"HTML\", \"Javascript\", \"React native\" ]     WEB前端   \n448   6k-12k           测试                   [ \"功能测试\", \"自动化\", \"脚本\" ]     自动化测试   \n449  16k-22k         前端开发                               [ \"Web前端\" ]     WEB前端   \n\n    workYear  \n0       1-3年  \n1       1-3年  \n2       3-5年  \n3       3-5年  \n4       3-5年  \n..       ...  \n445    5-10年  \n446     3-5年  \n447     1-3年  \n448       不限  \n449    5-10年  \n\n[450 rows x 16 columns]",
      "text/html": "<div>\n<style scoped>\n    .dataframe tbody tr th:only-of-type {\n        vertical-align: middle;\n    }\n\n    .dataframe tbody tr th {\n        vertical-align: top;\n    }\n\n    .dataframe thead th {\n        text-align: right;\n    }\n</style>\n<table border=\"1\" class=\"dataframe\">\n  <thead>\n    <tr style=\"text-align: right;\">\n      <th></th>\n      <th>_id</th>\n      <th>companyFullName</th>\n      <th>createTime</th>\n      <th>detail</th>\n      <th>district</th>\n      <th>education</th>\n      <th>financeStage</th>\n      <th>firstType</th>\n      <th>jobNature</th>\n      <th>positionAdvantage</th>\n      <th>positionName</th>\n      <th>salary</th>\n      <th>secondType</th>\n      <th>skillLables</th>\n      <th>thirdType</th>\n      <th>workYear</th>\n    </tr>\n  </thead>\n  <tbody>\n    <tr>\n      <th>0</th>\n      <td>5ef0627b8c719ec7f36a9fa9</td>\n      <td>微慕客（成都）科技有限公司</td>\n      <td>2020-06-22 15:19:43</td>\n      <td>1.本科及以上学历，计算机相关专业，3年以上工作经验；\\n2.拥有良好的编码习惯，遵守编码规...</td>\n      <td>双流县</td>\n      <td>本科</td>\n      <td>不需要融资</td>\n      <td>开发|测试|运维类</td>\n      <td>全职</td>\n      <td>五险一金 弹性工作 扁平管理 微软项目</td>\n      <td>python开发工程师</td>\n      <td>8k-12k</td>\n      <td>后端开发</td>\n      <td>[ \"Python\" ]</td>\n      <td>Python</td>\n      <td>1-3年</td>\n    </tr>\n    <tr>\n      <th>1</th>\n      <td>5ef062808c719ec7f36a9faa</td>\n      <td>成都德凡克科技有限公司</td>\n      <td>2020-06-22 11:53:07</td>\n      <td>岗位职责：1. 负责研发量化系统和回测系统，策略上线表现的可视化，能够出具策略表现简报。2、...</td>\n      <td>高新区</td>\n      <td>大专</td>\n      <td>不需要融资</td>\n      <td>开发|测试|运维类</td>\n      <td>全职</td>\n      <td>办公环境舒适 下午茶福利</td>\n      <td>python开发工程师</td>\n      <td>8k-12k</td>\n      <td>后端开发</td>\n      <td>[ \"C++\", \"C\", \"Linux/Unix\" ]</td>\n      <td>Python</td>\n      <td>1-3年</td>\n    </tr>\n    <tr>\n      <th>2</th>\n      <td>5ef062838c719ec7f36a9fab</td>\n      <td>易宝软件科技（南京）有限公司</td>\n      <td>2020-06-22 10:51:24</td>\n      <td>Error</td>\n      <td>郫县</td>\n      <td>本科</td>\n      <td>上市公司</td>\n      <td>开发|测试|运维类</td>\n      <td>全职</td>\n      <td>氛围温馨,周末双休,节日福利，五险一金</td>\n      <td>python开发工程师</td>\n      <td>12k-20k</td>\n      <td>后端开发</td>\n      <td>[ \"后端\", \"平台\", \"分布式\" ]</td>\n      <td>Java</td>\n      <td>3-5年</td>\n    </tr>\n    <tr>\n      <th>3</th>\n      <td>5ef062878c719ec7f36a9fac</td>\n      <td>成都南天佳信信息工程有限公司</td>\n      <td>2020-06-22 09:21:23</td>\n      <td>Error</td>\n      <td>高新区</td>\n      <td>本科</td>\n      <td>上市公司</td>\n      <td>开发|测试|运维类</td>\n      <td>全职</td>\n      <td>年终奖金、定期体检、节日福利、生日福利</td>\n      <td>python开发</td>\n      <td>9k-13k</td>\n      <td>后端开发</td>\n      <td>[ \"中间件\", \"Python\", \"Java\" ]</td>\n      <td>Python</td>\n      <td>3-5年</td>\n    </tr>\n    <tr>\n      <th>4</th>\n      <td>5ef0628b8c719ec7f36a9fad</td>\n      <td>成都智汇安新科技有限公司</td>\n      <td>2020-06-22 14:09:14</td>\n      <td>岗位职责：\\n1、充分理解项目需求, 系统架构, 参与系统设计；\\n2、根据公司现有的分析设...</td>\n      <td>高新区</td>\n      <td>本科</td>\n      <td>不需要融资</td>\n      <td>开发|测试|运维类</td>\n      <td>全职</td>\n      <td>高校支付 六险一金 周末双休</td>\n      <td>python后端</td>\n      <td>10k-12k</td>\n      <td>后端开发</td>\n      <td>[ \"Python\" ]</td>\n      <td>Python</td>\n      <td>3-5年</td>\n    </tr>\n    <tr>\n      <th>...</th>\n      <td>...</td>\n      <td>...</td>\n      <td>...</td>\n      <td>...</td>\n      <td>...</td>\n      <td>...</td>\n      <td>...</td>\n      <td>...</td>\n      <td>...</td>\n      <td>...</td>\n      <td>...</td>\n      <td>...</td>\n      <td>...</td>\n      <td>...</td>\n      <td>...</td>\n      <td>...</td>\n    </tr>\n    <tr>\n      <th>445</th>\n      <td>5ef069cd8c719ec7f36aa166</td>\n      <td>北京蜂雀投资管理有限公司成都分公司</td>\n      <td>2020-05-11 15:24:46</td>\n      <td>Error</td>\n      <td>武侯区</td>\n      <td>本科</td>\n      <td>不需要融资</td>\n      <td>金融类</td>\n      <td>全职</td>\n      <td>优质的平台，卓越的业绩，无限的发展空间。</td>\n      <td>股票量化交易基金经理</td>\n      <td>20k-30k</td>\n      <td>证券|基金|信托|期货</td>\n      <td>[ \"股票\", \"基金\", \"基金管理\", \"基金分析\" ]</td>\n      <td>基金经理</td>\n      <td>5-10年</td>\n    </tr>\n    <tr>\n      <th>446</th>\n      <td>5ef069d08c719ec7f36aa167</td>\n      <td>趋曼信息技术（上海）有限公司</td>\n      <td>2020-06-12 10:01:22</td>\n      <td>Error</td>\n      <td>双流县</td>\n      <td>本科</td>\n      <td>不需要融资</td>\n      <td>开发|测试|运维类</td>\n      <td>全职</td>\n      <td>工作环境好，技术新</td>\n      <td>测试开发</td>\n      <td>11k-17k</td>\n      <td>测试</td>\n      <td>[ \"测试\", \"Android测试\", \"小程序测试\" ]</td>\n      <td>测试开发</td>\n      <td>3-5年</td>\n    </tr>\n    <tr>\n      <th>447</th>\n      <td>5ef069d38c719ec7f36aa168</td>\n      <td>成都中科云集信息技术有限公司</td>\n      <td>2020-05-28 09:40:32</td>\n      <td>Error</td>\n      <td>成华区</td>\n      <td>本科</td>\n      <td>不需要融资</td>\n      <td>开发|测试|运维类</td>\n      <td>全职</td>\n      <td>五险一金，周末双休</td>\n      <td>研发工程师</td>\n      <td>6k-12k</td>\n      <td>前端开发</td>\n      <td>[ \"HTML\", \"Javascript\", \"React native\" ]</td>\n      <td>WEB前端</td>\n      <td>1-3年</td>\n    </tr>\n    <tr>\n      <th>448</th>\n      <td>5ef069d68c719ec7f36aa169</td>\n      <td>深圳市汇合发展有限公司</td>\n      <td>2020-05-28 15:51:09</td>\n      <td>Error</td>\n      <td>武侯区</td>\n      <td>本科</td>\n      <td>不需要融资</td>\n      <td>开发|测试|运维类</td>\n      <td>全职</td>\n      <td>薪资福利</td>\n      <td>软件测试</td>\n      <td>6k-12k</td>\n      <td>测试</td>\n      <td>[ \"功能测试\", \"自动化\", \"脚本\" ]</td>\n      <td>自动化测试</td>\n      <td>不限</td>\n    </tr>\n    <tr>\n      <th>449</th>\n      <td>5ef069da8c719ec7f36aa16a</td>\n      <td>成都斯达领科网络科技有限公司</td>\n      <td>2020-05-29 14:06:23</td>\n      <td>Error</td>\n      <td>高新区</td>\n      <td>本科</td>\n      <td>天使轮</td>\n      <td>开发|测试|运维类</td>\n      <td>全职</td>\n      <td>入职购买五险一金、下午茶、透明晋升</td>\n      <td>高级前端</td>\n      <td>16k-22k</td>\n      <td>前端开发</td>\n      <td>[ \"Web前端\" ]</td>\n      <td>WEB前端</td>\n      <td>5-10年</td>\n    </tr>\n  </tbody>\n</table>\n<p>450 rows × 16 columns</p>\n</div>"
     },
     "metadata": {},
     "execution_count": 45
    }
   ],
   "source": [
    "df = pd.DataFrame(data)\n",
    "df"
   ]
  },
  {
   "cell_type": "code",
   "execution_count": 67,
   "metadata": {},
   "outputs": [
    {
     "output_type": "execute_result",
     "data": {
      "text/plain": "'[ \"Python\" ]'"
     },
     "metadata": {},
     "execution_count": 67
    }
   ],
   "source": [
    "# df['skillLables'][0][3:-3]\n",
    "df['skillLables'][0]"
   ]
  },
  {
   "cell_type": "code",
   "execution_count": 49,
   "metadata": {},
   "outputs": [],
   "source": [
    "skillLables = \"\"\n",
    "for x in df['skillLables']:\n",
    "    for y in x :\n",
    "        skillLables += \" \".join(y)\n"
   ]
  },
  {
   "cell_type": "code",
   "execution_count": 81,
   "metadata": {},
   "outputs": [],
   "source": [
    "text = re.sub(\"[\\[\\]\\\"\\\",/ ]\",\"\", skillLables)"
   ]
  },
  {
   "cell_type": "code",
   "execution_count": 82,
   "metadata": {},
   "outputs": [
    {
     "output_type": "execute_result",
     "data": {
      "text/plain": "'PythonC++CLinuxUnix后端平台分布式中间件PythonJavaPythonMySQLPython平台Python后端Python云计算PythonGO后端服务器端PythonPythonPythonPython后端数据挖掘搜索爬虫后端数据库python爬虫数据采集数据挖掘PythonPython爬虫软件开发PythonLinuxUnix后端PythonLinuxUnixMySQLdocker后端Python软件开发JavaPython后端LinuxUnix后端Python数据挖掘数据分析数据处理数据库开发算法Python爬虫网络爬虫后端Python嵌入式后端后端GolangPython功能测试性能测试白盒测试黑盒测试Unity3d服务器端后端JavaC++算法安全数据挖掘HadoopLinux服务器运维运维MySQL数据架构数据仓库HadoopJavaOracleScalaSparkHadoopOracleScalaSparkHadoop数据仓库HadoopJavaUnity3d图像处理人工智能机器学习算法Javadocker运维Python后端PHP服务器端后端C++LinuxUnix后端运维数据运营CC++GORuby网络安全LinuxWindows业务流程管理算法NLP后端JavadockerGO云计算后端GOGolangdocker后端C++Erlang人工智能语音识别算法建模NLP人工智能QA敏捷测试自动化测试Web测试功能测试性能测试接口测试JavaPython功能测试白盒测试自动化测试服务器端中间件Laraveldocker技术管理后端服务器端客户端平台客户端架构师系统架构分布式测试功能测试自动化测试测试测试前端开发运维用户研究数据分析产品设计MongoDBMySQLRedisBI商业数据分析机器学习人工智能数据挖掘NLP人工智能算法建模LinuxShellPython网络安全安全ShellLinux人工智能NLP算法MySQL数据分析SQL商业BI数据分析运维LinuxSQLServerPythonAnsible图像处理深度学习测试测试功能测试运维安全功能测试性能测试app测试自动化自动化功能测试服务器端GolangLaravelLinuxUnix服务器端Java分布式docker服务器端GolangLaravelLinuxUnix后端分布式中间件LinuxUnixC++测试功能测试Android测试IOS测试数据分析运维管理后端GolangGOErlang软件开发JavaDevOpsLinuxShellPython视频编解码音频编解码LinuxUnixJavaMySQL测试app测试技术管理系统架构团队建设架构师视频编解码音频编解码LinuxUnixJavaMySQL测试app测试技术管理系统架构团队建设架构师测试Web测试功能测试ShellDBAMySQLGo安全专家系统架构高级技术管理测试功能测试性能测试自动化测试运维DockerPythonJenkinsDevOpsK8sDocker数据处理建模安全网络安全信息安全运维后端测试自动化测试测试开发测试Server端测试Web测试自动化后端Golang风控算法MySQLOracle图像处理机器学习算法数据架构数据分析白盒测试测试开发自动化安全测试Web前端后端Hive数据仓库数据分析运维C++C后端服务器端后端客户端JavaAndroidDockerPython运维安全运维网络运维服务器运维测试产品测试自动化数据挖掘算法Hadoop测试管理团队建设目标管理自动化测试测试开发压力测试脚本推荐人工智能机器学习算法服务器端C++运维Linux运维Linux游戏测试性能测试自动化GolangPythonShelldockerGolangShellPython分布式GolangGOGolang架构师自动化测试软件测试自动化测试深度学习推荐算法数据挖掘测试开发性能测试功能测试自动化Python数据采集爬虫架构LinuxUnixPythonDockerK8sLinuxC++图像处理DockerGitJenkins运维开发CSSWeb前端Node.js前端开发深度学习计算机视觉机器学习图像处理中间件C++图像处理DockerGitJenkins运维开发CSSWeb前端Node.js前端开发深度学习计算机视觉机器学习图像处理中间件CPythonGO数据挖掘搜索数据架构数据分析技术管理系统架构架构师CC++LinuxUnix运维安全运维安全LinuxMySQLC++系统架构JavaHadoop搜索机器学习HTML5JavascriptHybird移动端服务器端客户端C++电路设计硬件开发C++Layout设计ShellC++JavaPythonETLHiveOracleHadoopLinuxK8sDocker服务器运维美术设计技术管理架构师JavaPython自动化功能测试测试开发Web测试Node.jsPHP后端JavaJ2EE分布式COCOS2D-X运维系统运维Java应用运维测试白盒测试自动化测试后端JavaPython运维配置管理监控CG影视安全信息安全运维网络安全运维系统安全运维Android测试IOS测试Web测试移动端平台架构师算法人工智能算法模式识别深度学习人工智能图像处理AndroidIOSCOCOS2D-XSDK后端SQL数据分析期货股票数据仓库数据分析模式识别深度学习人工智能图像处理AndroidIOSCOCOS2D-XSDK后端SQL数据分析DevOps期货股票数据仓库数据分析GOGolang安全产品设计分布式docker架构师安全Web安全网络安全测试黑盒测试移动端网页测试DBA数据架构数据库测试自动化白盒测试Unity3dCC++前端开发Unity3d底层测试Web测试客户端SparkFlinkETLOracle后端GolangPython安全测试JmeterLoadrunner自动化性能测试运营数据分析数据分析数据处理测试Web测试自动化性能测试项目管理过程管理PMPSQL数据分析DBA测试脚本自动化深度学习NLP算法后端服务器端JavaJavascriptJ2EEJavaHadoop测试开发Android测试IOS测试Web测试Linux运维Server端测试接口测试自动化测试性能测试JavascriptHadoopScalaJava测试自动化数据库功能测试性能测试自动化运维云平台运维JavaPython爬虫算法数据分析测试开发性能测试自动化脚本前端开发HTML5ReactnativeCSS性能测试测试开发测试功能测试CC++LinuxUnix测试脚本功能测试性能测试测试脚本自动化测试开发测试测试开发黑盒测试白盒测试深度学习计算机视觉图像处理模式识别运维DevOps数据分析数据挖掘MySQL数据分析数据挖掘MySQL深度学习推荐GOPython推荐NLP推荐机器学习数据挖掘Server端测试Web测试性能测试功能测试运维OpenstackLinuxLinuxZabbixDocker自动化运维Java网络安全信息安全LinuxMySQL数据仓库数据处理数据分析C交互设计结构设计数据分析产品设计测试自动化RubyPythonJavaGolangWeb测试性能测试功能测试测试开发Android测试IOS测试人工智能机器学习深度学习NLPDB2DBAMySQL机器学习深度学习图像处理语音识别游戏测试测试功能测试测试自动化测试自动化技术管理系统架构架构师运维LinuxUnixGolang数据分析数据分析HadoopSparkScala后端客户端C++云计算测试功能测试自动化测试功能测试自动化运维DBAIT支持运维IT支持系统运维移动端测试测试JmeterSelenium接口测试C++CC++Python人工智能NLP算法数据分析部门管理自动化测试算法数据挖掘数据分析数据挖掘数据架构数据分析JavaScalaHadoopHadoopSparkScala通信网络优化路由器配置核心网优化物理协议机器学习深度学习图像处理算法JavaMySQLHadoopShell网络安全安全运维DevOps安全C++C#.NETLinuxUnixQTC++C#.NETQTLinuxUnix测试测试自动化游戏测试自动化IOS测试Android测试Server端测试后端dockerGO客户端服务器端docker平台CDNDockerIT支持K8s测试自动化运维DBAServer端测试产品测试性能测试功能测试数据挖掘数据分析LinuxSQLServer人工智能深度学习计算机视觉数据架构Hadoop数据挖掘算法人工智能算法渗透测试安全测试Web测试运维大数据运维LinuxUnix分布式Hadoop游戏运营数据分析Web测试app测试Selenium自动化测试Golang功能测试软件测试自动化测试测试开发后端Java分布式中间件风控测试Android测试软件测试app测试ReactnativeHTMLJavascriptCSSGOWindowsPython中间件Golang数据库LaravelLinuxUnixDBAMySQL数据库人工智能图像处理算法视频编解码QTC++LinuxUnixLinuxUnixLinuxUnixCC++压力测试测试开发性能测试MySQLOracle云平台运维C++CJavascriptPythonC++GOPythonC人工智能语音合成算法语音识别人工智能语音合成VueReactnative前端开发Golang测试部门管理技术管理系统架构架构师算法数据挖掘数据分析数据处理运维LinuxHiveJavaScalaSpark安全ShellPythonPHPLinuxUnixC++PythonShellPython后端JavaC++数据库开发HadoopSpark前端开发Reactnative算法数据挖掘OpenstackDevOps云平台运维K8s数据分析数据处理数据挖掘Oracle机器学习深度学习搜索推荐HTML5Web前端移动端前端开发后端JavascriptJava软件开发算法数据挖掘数据库开发数据处理前端开发图像处理运维开发DevOpsC++自动化脚本性能测试产品运营商家运营测试自动化测试性能测试中间件运维LinuxTCP协议HTTP协议测试移动端数据库开发MySQLMongoDBRedis测试自动化信息安全MySQL行业研究测试性能测试C安全专家数据挖掘数据架构数据分析运维性能测试自动化测试接口测试自动化Selenium功能测试产品测试后端网络爬虫测试数据架构数据仓库数据分析数据压缩运维Linux监控系统运维人工智能数据挖掘算法后端C++Python基金管理股票基金基金分析股票基金基金管理基金分析测试Android测试小程序测试HTMLJavascriptReactnative功能测试自动化脚本Web前端'"
     },
     "metadata": {},
     "execution_count": 82
    }
   ],
   "source": [
    "text"
   ]
  },
  {
   "cell_type": "code",
   "execution_count": 85,
   "metadata": {},
   "outputs": [],
   "source": [
    "import jieba\n",
    "import wordcloud\n"
   ]
  },
  {
   "cell_type": "code",
   "execution_count": 83,
   "metadata": {
    "tags": []
   },
   "outputs": [
    {
     "output_type": "execute_result",
     "data": {
      "text/plain": "'Python C++ CLinuxUnix 后端 平台 分布式 中间件 PythonJavaPythonMySQLPython 平台 Python 后端 Python 云 计算 PythonGO 后端 服务器端 PythonPythonPythonPython 后端 数据挖掘 搜索 爬虫 后 端 数据库 python 爬虫 数据 采集 数据挖掘 PythonPython 爬虫 软件开发 PythonLinuxUnix 后端 PythonLinuxUnixMySQLdocker 后端 Python 软件开发 JavaPython 后端 LinuxUnix 后端 Python 数据挖掘 数据分析 数据处理 数据库 开发 算法 Python 爬虫 网络 爬虫 后端 Python 嵌入式 后端 后 端 GolangPython 功能测试 性能 测试 白盒 测试 黑盒 测试 Unity3d 服务器端 后端 Java C++ 算法 安全 数据挖掘 HadoopLinux 服务器 运维运维 MySQL 数据 架构 数据仓库 HadoopJavaOracleScalaSparkHadoopOracleScalaSparkHadoop 数据仓库 HadoopJavaUnity3d 图像处理 人工智能 机器 学习 算法 Javadocker 运维 Python 后端 PHP 服务器端 后 端 C++ LinuxUnix 后端 运维 数据 运营 C C++ GORuby 网络安全 LinuxWindows 业务流程 管理 算法 NLP 后端 JavadockerGO 云 计算 后端 GOGolangdocker 后端 C++ Erlang 人工智能 语音 识别 算法 建模 NLP 人工智能 QA 敏捷 测试 自动化 测试 Web 测试 功能测试 性能 测试 接口 测试 JavaPython 功能测试 白盒 测试 自动化 测试 服务器端 中间件 Laraveldocker 技术 管理 后 端 服务器端 客户端 平台 客户端 架构师 系统 架构 分布式 测试 功能测试 自动化 测试 测试 测试 前端开发 运维 用户 研究 数据分析 产品设计 MongoDBMySQLRedisBI 商业 数据分析 机器 学习 人工智能 数据挖掘 NLP 人工智能 算法 建模 LinuxShellPython 网络安全 安全 ShellLinux 人工智能 NLP 算法 MySQL 数据分析 SQL 商业 BI 数据分析 运维 LinuxSQLServerPythonAnsible 图像处理 深度 学习 测试 测试 功能测试 运维 安全 功能测试 性能 测试 app 测试 自动化 自动化 功能测试 服务器端 GolangLaravelLinuxUnix 服务器端 Java 分布式 docker 服务器端 GolangLaravelLinuxUnix 后端 分布式 中间件 LinuxUnix C++ 测试 功能测试 Android 测试 IOS 测试 数据分析 运维 管理 后端 GolangGOErlang 软件开发 JavaDevOpsLinuxShellPython 视频 编解码 音频 编解码 LinuxUnixJavaMySQL 测试 app 测试 技术 管理系统 架构 团队 建设 架构师 视频 编解码 音频 编解码 LinuxUnixJavaMySQL 测试 app 测试 技术 管理系统 架构 团队 建设 架构师 测试 Web 测试 功能测试 ShellDBAMySQLGo 安全 专家系统 架构 高级 技术 管理 测试 功能测试 性能 测试 自动化 测试 运维 DockerPythonJenkinsDevOpsK8sDocker 数据处理 建模 安全 网络安全 信息安全 运维后 端 测试 自动化 测试 测试 开发 测试 Server 端 测试 Web 测试 自动化 后端 Golang 风控 算法 MySQLOracle 图像处理 机器 学习 算法 数据 架构 数据分析 白盒 测试 测试 开发 自动化 安全 测试 Web 前端 后端 Hive 数据仓库 数据分析 运维 C++ C 后端 服务器端 后 端 客户端 JavaAndroidDockerPython 运维 安全 运维 网络 运维 服务器 运维 测试 产品 测试 自动化 数据挖掘 算法 Hadoop 测试 管理 团队 建设 目标 管理 自动化 测试 测试 开发 压力 测试 脚本 推荐 人工智能 机器 学习 算法 服务器端 C++ 运维 Linux 运维 Linux 游戏 测试 性能 测试 自动化 GolangPythonShelldockerGolangShellPython 分布式 GolangGOGolang 架构师 自动化 测试 软件测试 自动化 测试 深度 学习 推荐 算法 数据挖掘 测试 开发 性能 测试 功能测试 自动化 Python 数据 采集 爬虫 架构 LinuxUnixPythonDockerK8sLinux C++ 图像处理 DockerGitJenkins 运维 开发 CSSWeb 前端 Node . js 前端开发 深度 学习 计算机 视觉 机器 学习 图像处理 中间件 C++ 图像处理 DockerGitJenkins 运维 开发 CSSWeb 前端 Node . js 前端开发 深度 学习 计算机 视觉 机器 学习 图像处理 中间件 CPythonGO 数据挖掘 搜索 数据 架构 数据分析 技术 管理系统 架构 架构师 C C++ LinuxUnix 运维 安全 运维 安全 LinuxMySQL C++ 系统 架构 JavaHadoop 搜索 机器 学习 HTML5JavascriptHybird 移动 端 服务器端 客户端 C++ 电路设计 硬件 开发 C++ Layout 设计 Shell C++ JavaPythonETLHiveOracleHadoopLinuxK8sDocker 服务器 运维 美术设计 技术 管理 架构师 JavaPython 自动化 功能测试 测试 开发 Web 测试 Node . jsPHP 后端 JavaJ2EE 分布式 COCOS2D - X 运维 系统 运维 Java 应用 运维 测试 白盒 测试 自动化 测试 后端 JavaPython 运维 配置管理 监控 CG 影视 安全 信息安全 运维 网络安全 运维 系统安全 运维 Android 测试 IOS 测试 Web 测试 移动 端 平台 架构师 算法 人工智能 算法 模式识别 深度 学习 人工智能 图像处理 AndroidIOSCOCOS2D - XSDK 后端 SQL 数据分析 期货 股票 数据仓库 数据分析 模式识别 深度 学习 人工智能 图像处理 AndroidIOSCOCOS2D - XSDK 后端 SQL 数据分析 DevOps 期货 股票 数据仓库 数据分析 GOGolang 安全 产品设计 分布式 docker 架构师 安全 Web 安全 网络安全 测试 黑盒 测试 移动 端 网页 测试 DBA 数据 架构 数据库 测试 自动化 白盒 测试 Unity3dC C++ 前端开发 Unity3d 底层 测试 Web 测试 客户端 SparkFlinkETLOracle 后端 GolangPython 安全 测试 JmeterLoadrunner 自动化 性能 测试 运营 数据分析 数据分析 数据处理 测试 Web 测试 自动化 性能 测试 项目管理 过程 管理 PMPSQL 数据分析 DBA 测试 脚本 自动化 深度 学习 NLP 算法 后 端 服务器端 JavaJavascriptJ2EEJavaHadoop 测试 开发 Android 测试 IOS 测试 Web 测试 Linux 运维 Server 端 测试 接口 测试 自动化 测试 性能 测试 JavascriptHadoopScalaJava 测试 自动化 数据库 功能测试 性能 测试 自动化 运维云 平台 运维 JavaPython 爬虫 算法 数据分析 测试 开发 性能 测试 自动化 脚本 前端开发 HTML5ReactnativeCSS 性能 测试 测试 开发 测试 功能测试 C C++ LinuxUnix 测试 脚本 功能测试 性能 测试 测试 脚本 自动化 测试 开发 测试 测试 开发 黑盒 测试 白盒 测试 深度 学习 计算机 视觉 图像处理 模式识别 运维 DevOps 数据分析 数据挖掘 MySQL 数据分析 数据挖掘 MySQL 深度 学习 推荐 GOPython 推荐 NLP 推荐 机器 学习 数据挖掘 Server 端 测试 Web 测试 性能 测试 功能测试 运维 OpenstackLinuxLinuxZabbixDocker 自动化 运维 Java 网络安全 信息安全 LinuxMySQL 数据仓库 数据处理 数据分析 C 交互 设计 结构设计 数据分析 产品设计 测试 自动化 RubyPythonJavaGolangWeb 测试 性能 测试 功能测试 测试 开发 Android 测试 IOS 测试 人工智能 机器 学习 深度 学习 NLPDB2DBAMySQL 机器 学习 深度 学习 图像处理 语音 识别 游戏 测试 测试 功能测试 测试 自动化 测试 自动化 技术 管理系统 架构 架构师 运维 LinuxUnixGolang 数据分析 数据分析 HadoopSparkScala 后端 客户端 C++ 云 计算 测试 功能测试 自动化 测试 功能测试 自动化 运维 DBAIT 支持 运维 IT 支持系统 运维 移动 端 测试 测试 JmeterSelenium 接口 测试 C++ C C++ Python 人工智能 NLP 算法 数据分析 部门 管理 自动化 测试 算法 数据挖掘 数据分析 数据挖掘 数据 架构 数据分析 JavaScalaHadoopHadoopSparkScala 通信 网络 优化 路由器 配置 核心网 优化 物理 协议 机器 学习 深度 学习 图像处理 算法 JavaMySQLHadoopShell 网络安全 安全 运维 DevOps 安全 C++ C# . NETLinuxUnixQT C++ C# . NETQTLinuxUnix 测试 测试 自动化 游戏 测试 自动化 IOS 测试 Android 测试 Server 端 测试 后端 dockerGO 客户端 服务器端 docker 平台 CDNDockerIT 支持 K8s 测试 自动化 运维 DBAServer 端 测试 产品 测试 性能 测试 功能测试 数据挖掘 数据分析 LinuxSQLServer 人工智能 深度 学习 计算机 视觉 数据 架构 Hadoop 数据挖掘 算法 人工智能 算法 渗透 测试 安全 测试 Web 测试 运维大 数据 运维 LinuxUnix 分布式 Hadoop 游戏 运营 数据分析 Web 测试 app 测试 Selenium 自动化 测试 Golang 功能测试 软件测试 自动化 测试 测试 开发 后端 Java 分布式 中间件 风控 测试 Android 测试 软件测试 app 测试 ReactnativeHTMLJavascriptCSSGOWindowsPython 中间件 Golang 数据库 LaravelLinuxUnixDBAMySQL 数据库 人工智能 图像处理 算法 视频 编解码 QT C++ LinuxUnixLinuxUnixLinuxUnixC C++ 压力 测试 测试 开发 性能 测试 MySQLOracle 云 平台 运维 C++ CJavascriptPython C++ GOPythonC 人工智能 语音 合成 算法 语音 识别 人工智能 语音 合成 VueReactnative 前端开发 Golang 测试 部门 管理 技术 管理系统 架构 架构师 算法 数据挖掘 数据分析 数据处理 运维 LinuxHiveJavaScalaSpark 安全 ShellPythonPHPLinuxUnix C++ PythonShellPython 后端 Java C++ 数据库 开发 HadoopSpark 前端开发 Reactnative 算法 数据挖掘 OpenstackDevOps 云 平台 运维 K8s 数据分析 数据处理 数据挖掘 Oracle 机器 学习 深度 学习 搜索 推荐 HTML5Web 前端 移动 端 前端开发 后端 JavascriptJava 软件开发 算法 数据挖掘 数据库 开发 数据处理 前端开发 图像处理 运维 开发 DevOps C++ 自动化 脚本 性能 测试 产品 运营商 家 运营 测试 自动化 测试 性能 测试 中间件 运维 LinuxTCP 协议 HTTP 协议 测试 移动 端 数据库 开发 MySQLMongoDBRedis 测试 自动化 信息安全 MySQL 行业 研究 测试 性能 测试 C 安全 专家 数据挖掘 数据 架构 数据分析 运维 性能 测试 自动化 测试 接口 测试 自动化 Selenium 功能测试 产品 测试 后 端网络 爬虫 测试数据 架构 数据仓库 数据分析 数据压缩 运维 Linux 监控 系统 运维 人工智能 数据挖掘 算法 后 端 C++ Python 基金 管理 股票 基金 基金 分析 股票 基金 基金 管理 基金 分析测试 Android 测试 小 程序 测试 HTMLJavascriptReactnative 功能测试 自动化 脚本 Web 前端'"
     },
     "metadata": {},
     "execution_count": 83
    }
   ],
   "source": [
    "seg_list = \" \".join(jieba.cut(text))\n",
    "seg_list"
   ]
  },
  {
   "cell_type": "code",
   "execution_count": 89,
   "metadata": {},
   "outputs": [],
   "source": [
    "import imageio\n",
    "mk = imageio.imread(\"brid.png\")"
   ]
  },
  {
   "cell_type": "code",
   "execution_count": 91,
   "metadata": {},
   "outputs": [
    {
     "output_type": "execute_result",
     "data": {
      "text/plain": "<wordcloud.wordcloud.WordCloud at 0x1a1dc26e048>"
     },
     "metadata": {},
     "execution_count": 91
    }
   ],
   "source": [
    "w = wordcloud.WordCloud(width=1000,height=700, mask=mk,background_color='white',font_path='msyh.ttc',scale=15)\n",
    "w.generate(seg_list)\n",
    "w.to_file('output01.png')"
   ]
  },
  {
   "cell_type": "code",
   "execution_count": null,
   "metadata": {},
   "outputs": [],
   "source": []
  }
 ],
 "metadata": {
  "language_info": {
   "codemirror_mode": {
    "name": "ipython",
    "version": 3
   },
   "file_extension": ".py",
   "mimetype": "text/x-python",
   "name": "python",
   "nbconvert_exporter": "python",
   "pygments_lexer": "ipython3",
   "version": "3.7.4-final"
  },
  "orig_nbformat": 2,
  "kernelspec": {
   "name": "python3",
   "display_name": "Python 3"
  }
 },
 "nbformat": 4,
 "nbformat_minor": 2
}