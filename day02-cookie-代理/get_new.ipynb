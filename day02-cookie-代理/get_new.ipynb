{
 "cells": [
  {
   "cell_type": "code",
   "execution_count": 69,
   "metadata": {},
   "outputs": [],
   "source": [
    "from collections import deque\n",
    "from concurrent.futures.thread import ThreadPoolExecutor\n",
    "from threading import RLock\n",
    "from urllib.parse import urljoin\n",
    "\n",
    "import bs4\n",
    "import requests"
   ]
  },
  {
   "cell_type": "code",
   "execution_count": 70,
   "metadata": {},
   "outputs": [],
   "source": [
    "MAX_DEPTH = 3\n",
    "visited_urls = set()\n",
    "new_urls = deque()\n",
    "lock = RLock()\n"
   ]
  },
  {
   "cell_type": "code",
   "execution_count": 67,
   "metadata": {},
   "outputs": [],
   "source": [
    "def fix_url(curr_url, href):\n",
    "    if href.startswith('//'):\n",
    "        href = f'http:{href}'\n",
    "    elif href.startswith('/'):\n",
    "        href = urljoin(curr_url, href)\n",
    "    href = href.replace('!\\'\\'}', '')\n",
    "    return href if href.startswith('http') or href.startswith('https') else ''"
   ]
  },
  {
   "cell_type": "code",
   "execution_count": 71,
   "metadata": {},
   "outputs": [],
   "source": [
    "def fetch_page(curr_url, depth):\n",
    "    try:\n",
    "        resp = requests.get(curr_url, timeout=1)\n",
    "    except Exception as ex:\n",
    "#         print(ex)\n",
    "    else:\n",
    "        soup = bs4.BeautifulSoup(resp.text, 'lxml')\n",
    "        if depth < MAX_DEPTH:\n",
    "            all_anchors = soup.find_all('a')\n",
    "            with lock:\n",
    "                for anchor in all_anchors:\n",
    "                    href = anchor.attrs.get('href', '')\n",
    "                    href = fix_url(curr_url, href)\n",
    "                    if href:\n",
    "                        print(href)\n",
    "                        new_urls.append((href, depth + 1))\n",
    "            visited_urls.add(curr_url)"
   ]
  },
  {
   "cell_type": "code",
   "execution_count": 72,
   "metadata": {},
   "outputs": [],
   "source": [
    "def main():\n",
    "    seed_url = 'https://sports.sohu.com/'\n",
    "    new_urls.append((seed_url, 0))\n",
    "    with ThreadPoolExecutor(max_workers=32) as pool:\n",
    "        while len(new_urls) > 0 or len(visited_urls) == 0:\n",
    "            print(len(new_urls))\n",
    "            if len(new_urls) > 0:\n",
    "                with lock:\n",
    "                    curr_url, depth = new_urls.popleft()\n",
    "                if curr_url not in visited_urls:\n",
    "                    pool.submit(fetch_page, curr_url, depth)"
   ]
  },
  {
   "cell_type": "code",
   "execution_count": 107,
   "metadata": {},
   "outputs": [
    {
     "data": {
      "text/plain": [
       "datetime.datetime(2020, 6, 18, 21, 10, 39, 917627)"
      ]
     },
     "execution_count": 107,
     "metadata": {},
     "output_type": "execute_result"
    }
   ],
   "source": [
    "import MySQLdb\n",
    "from MySQLdb.cursors import DictCursor\n",
    "import datetime\n",
    "conn = MySQLdb.connect(host='123.56.80.63',\n",
    "                      port=3306,\n",
    "                      user='root',\n",
    "                      passwd='mysql',\n",
    "                      db='crawel',\n",
    "                      charset='utf8')\n",
    "t = datetime.datetime.now()\n",
    "t"
   ]
  },
  {
   "cell_type": "code",
   "execution_count": 108,
   "metadata": {},
   "outputs": [],
   "source": [
    "\n",
    "try:\n",
    "    with conn.cursor(DictCursor) as cursor:\n",
    "        df = cursor.execute(\n",
    "        f\"insert into news(url,title,insert_time,context) values ('testurl','testtitle','{t}','testtext')\"\n",
    "        )\n",
    "        conn.commit()\n",
    "except:\n",
    "    conn.rollback()"
   ]
  },
  {
   "cell_type": "code",
   "execution_count": null,
   "metadata": {},
   "outputs": [],
   "source": []
  }
 ],
 "metadata": {
  "kernelspec": {
   "display_name": "PyCharm (crawler)",
   "language": "python",
   "name": "pycharm-4187aec2"
  },
  "language_info": {
   "codemirror_mode": {
    "name": "ipython",
    "version": 3
   },
   "file_extension": ".py",
   "mimetype": "text/x-python",
   "name": "python",
   "nbconvert_exporter": "python",
   "pygments_lexer": "ipython3",
   "version": "3.7.7"
  }
 },
 "nbformat": 4,
 "nbformat_minor": 4
}
